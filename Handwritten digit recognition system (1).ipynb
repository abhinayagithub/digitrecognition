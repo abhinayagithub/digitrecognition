{
 "cells": [
  {
   "cell_type": "code",
   "execution_count": 22,
   "id": "4e1dedd9",
   "metadata": {},
   "outputs": [],
   "source": [
    "import tensorflow as tf\n",
    "from tensorflow.keras.datasets import mnist\n",
    "from tensorflow.keras.models import Sequential\n",
    "from tensorflow.keras.layers import Conv2D, MaxPooling2D, Flatten, Dense, Dropout\n",
    "from tensorflow.keras.utils import to_categorical\n",
    "import matplotlib.pyplot as plt"
   ]
  },
  {
   "cell_type": "code",
   "execution_count": 23,
   "id": "6618d922",
   "metadata": {},
   "outputs": [],
   "source": [
    "(x_train, y_train), (x_test, y_test) = mnist.load_data()\n",
    "\n",
    "# Preprocess the data\n",
    "x_train = x_train / 255.0\n",
    "x_test = x_test / 255.0\n",
    "\n",
    "# Reshape images to (28, 28, 1)\n",
    "x_train = x_train.reshape(-1, 28, 28, 1)\n",
    "x_test = x_test.reshape(-1, 28, 28, 1)\n",
    "\n",
    "# One-hot encode the labels\n",
    "y_train = to_categorical(y_train, num_classes=10)\n",
    "y_test = to_categorical(y_test, num_classes=10)"
   ]
  },
  {
   "cell_type": "code",
   "execution_count": 24,
   "id": "57127b7f",
   "metadata": {},
   "outputs": [],
   "source": [
    "model = Sequential()\n",
    "model.add(Conv2D(32, (3, 3), activation='relu', input_shape=(28, 28, 1)))\n",
    "model.add(MaxPooling2D((2, 2)))\n",
    "model.add(Conv2D(64, (3, 3), activation='relu'))\n",
    "model.add(MaxPooling2D((2, 2)))\n",
    "model.add(Flatten())\n",
    "model.add(Dense(128, activation='relu'))\n",
    "model.add(Dropout(0.5))\n",
    "model.add(Dense(10, activation='softmax'))\n",
    "\n",
    "model.compile(optimizer='adam', loss='categorical_crossentropy', metrics=['accuracy'])"
   ]
  },
  {
   "cell_type": "code",
   "execution_count": 25,
   "id": "edd8c7c3",
   "metadata": {},
   "outputs": [
    {
     "name": "stdout",
     "output_type": "stream",
     "text": [
      "Epoch 1/10\n",
      "938/938 [==============================] - 46s 47ms/step - loss: 0.2467 - accuracy: 0.9239 - val_loss: 0.0617 - val_accuracy: 0.9795\n",
      "Epoch 2/10\n",
      "938/938 [==============================] - 46s 49ms/step - loss: 0.0887 - accuracy: 0.9740 - val_loss: 0.0439 - val_accuracy: 0.9858\n",
      "Epoch 3/10\n",
      "938/938 [==============================] - 52s 55ms/step - loss: 0.0646 - accuracy: 0.9807 - val_loss: 0.0350 - val_accuracy: 0.9881\n",
      "Epoch 4/10\n",
      "938/938 [==============================] - 42s 45ms/step - loss: 0.0530 - accuracy: 0.9843 - val_loss: 0.0313 - val_accuracy: 0.9888\n",
      "Epoch 5/10\n",
      "938/938 [==============================] - 44s 47ms/step - loss: 0.0436 - accuracy: 0.9864 - val_loss: 0.0301 - val_accuracy: 0.9905\n",
      "Epoch 6/10\n",
      "938/938 [==============================] - 47s 50ms/step - loss: 0.0367 - accuracy: 0.9889 - val_loss: 0.0306 - val_accuracy: 0.9904\n",
      "Epoch 7/10\n",
      "938/938 [==============================] - 48s 52ms/step - loss: 0.0327 - accuracy: 0.9897 - val_loss: 0.0281 - val_accuracy: 0.9913\n",
      "Epoch 8/10\n",
      "938/938 [==============================] - 43s 46ms/step - loss: 0.0299 - accuracy: 0.9908 - val_loss: 0.0281 - val_accuracy: 0.9916\n",
      "Epoch 9/10\n",
      "938/938 [==============================] - 47s 51ms/step - loss: 0.0281 - accuracy: 0.9909 - val_loss: 0.0259 - val_accuracy: 0.9914\n",
      "Epoch 10/10\n",
      "938/938 [==============================] - 48s 51ms/step - loss: 0.0245 - accuracy: 0.9923 - val_loss: 0.0282 - val_accuracy: 0.9914\n"
     ]
    },
    {
     "data": {
      "text/plain": [
       "<keras.src.callbacks.History at 0x23e026e1010>"
      ]
     },
     "execution_count": 25,
     "metadata": {},
     "output_type": "execute_result"
    }
   ],
   "source": [
    "model.fit(x_train, y_train, epochs=10, batch_size=64, validation_data=(x_test, y_test))"
   ]
  },
  {
   "cell_type": "code",
   "execution_count": 29,
   "id": "fb64a95c",
   "metadata": {},
   "outputs": [
    {
     "name": "stdout",
     "output_type": "stream",
     "text": [
      "313/313 [==============================] - 2s 5ms/step - loss: 0.0282 - accuracy: 0.9914\n",
      "Test accuracy: 99.14%\n"
     ]
    }
   ],
   "source": [
    "test_loss, test_accuracy = model.evaluate(x_test, y_test)\n",
    "print(f'Test accuracy: {test_accuracy * 100:.2f}%')"
   ]
  },
  {
   "cell_type": "code",
   "execution_count": 30,
   "id": "58cc4b43",
   "metadata": {},
   "outputs": [
    {
     "name": "stdout",
     "output_type": "stream",
     "text": [
      "1/1 [==============================] - 0s 34ms/step\n"
     ]
    },
    {
     "data": {
      "image/png": "[encoded data removed]",
      "text/plain": [
       "<Figure size 640x480 with 1 Axes>"
      ]
     },
     "metadata": {},
     "output_type": "display_data"
    }
   ],
   "source": [
    "import numpy as np\n",
    "\n",
    "# Choose a test image\n",
    "index = 0  # Change this to the index of the image you want to test\n",
    "test_image = x_test[index]\n",
    "\n",
    "# Make a prediction\n",
    "predicted_digit = np.argmax(model.predict(test_image.reshape(1, 28, 28, 1)))\n",
    "\n",
    "# Display the test image and the predicted digit\n",
    "plt.imshow(test_image.reshape(28, 28), cmap='gray')\n",
    "plt.title(f'Predicted Digit: {predicted_digit}')\n",
    "plt.show()"
   ]
  },
  {
   "cell_type": "code",
   "execution_count": null,
   "id": "a08ff62f",
   "metadata": {},
   "outputs": [],
   "source": [
    "import tkinter as tk\n",
    "from tkinter import Canvas, Button\n",
    "\n",
    "def recognize_digit():\n",
    "    canvas.postscript(file=\"canvas.eps\", colormode=\"color\")\n",
    "    img = Image.open(\"canvas.eps\")\n",
    "    img = img.resize((28, 28))\n",
    "    img = img.convert(\"L\")\n",
    "    img = np.array(img)\n",
    "    img = 255 - img\n",
    "    img = img.reshape(1, 28, 28)\n",
    "    img = img / 255.0\n",
    "    result = model.predict(img)\n",
    "    digit = np.argmax(result)\n",
    "    label.config(text=f\"Predicted Digit: {digit}\")\n",
    "\n",
    "# Create a simple UI\n",
    "root = tk.Tk()\n",
    "root.title(\"Digit Recognition\")\n",
    "\n",
    "canvas = Canvas(root, width=280, height=280, bg='white')\n",
    "canvas.pack()\n",
    "\n",
    "label = tk.Label(root, text=\"Draw a digit and click Recognize\")\n",
    "label.pack()\n",
    "\n",
    "button = Button(root, text=\"Recognize\", command=recognize_digit)\n",
    "button.pack()\n",
    "\n",
    "root.mainloop()"
   ]
  },
  {
   "cell_type": "code",
   "execution_count": null,
   "id": "4135548a",
   "metadata": {},
   "outputs": [],
   "source": [
    "import tkinter as tk\n",
    "from tkinter import Canvas, Button\n",
    "\n",
    "def recognize_digit():\n",
    "    canvas.postscript(file=\"canvas.eps\", colormode=\"color\")\n",
    "    img = Image.open(\"canvas.eps\")\n",
    "    img = img.resize((28, 28))\n",
    "    img = img.convert(\"L\")\n",
    "    img = np.array(img)\n",
    "    img = 255 - img\n",
    "    img = img.reshape(1, 28, 28)\n",
    "    img = img / 255.0\n",
    "    result = model.predict(img)\n",
    "    digit = np.argmax(result)\n",
    "    label.config(text=f\"Predicted Digit: {digit}\")\n",
    "\n",
    "# Create a simple UI\n",
    "root = tk.Tk()\n",
    "root.title(\"Digit Recognition\")\n",
    "\n",
    "canvas = Canvas(root, width=280, height=280, bg='white')\n",
    "canvas.pack()\n",
    "\n",
    "label = tk.Label(root, text=\"Draw a digit and click Recognize\")\n",
    "label.pack()\n",
    "\n",
    "button = Button(root, text=\"Recognize\", command=recognize_digit)\n",
    "button.pack()\n",
    "\n",
    "root.mainloop()"
   ]
  },
  {
   "cell_type": "code",
   "execution_count": null,
   "id": "9ab86300",
   "metadata": {},
   "outputs": [],
   "source": []
  }
 ],
 "metadata": {
  "kernelspec": {
   "display_name": "Python 3 (ipykernel)",
   "language": "python",
   "name": "python3"
  },
  "language_info": {
   "codemirror_mode": {
    "name": "ipython",
    "version": 3
   },
   "file_extension": ".py",
   "mimetype": "text/x-python",
   "name": "python",
   "nbconvert_exporter": "python",
   "pygments_lexer": "ipython3",
   "version": "3.11.5"
  }
 },
 "nbformat": 4,
 "nbformat_minor": 5
}
