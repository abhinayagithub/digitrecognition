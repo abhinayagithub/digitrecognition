{
 "cells": [
  {
   "cell_type": "code",
   "execution_count": null,
   "id": "301421fa",
   "metadata": {},
   "outputs": [],
   "source": [
    "!pip install tensorflow numpy"
   ]
  },
  {
   "cell_type": "code",
   "execution_count": null,
   "id": "3bdfd85e",
   "metadata": {},
   "outputs": [],
   "source": [
    "\n",
    "#importing libraries\n",
    "import pandas as pd\n",
    "import numpy as np\n",
    "import matplotlib.pyplot as plt\n",
    "import tensorflow as tf\n",
    "from tensorflow import keras"
   ]
  },
  {
   "cell_type": "code",
   "execution_count": null,
   "id": "bc49e6b0",
   "metadata": {},
   "outputs": [],
   "source": [
    "# (X_train, y_train), (X_test,y_test)= keras.datasets.mnist.load_data()\n",
    "Downloading data from https://storage.googleapis.com/tensorflow/tf-keras-datasets/mnist.npz\n",
    "11490434/11490434 [==============================] - 0s 0us/step\n",
    "     "
   ]
  },
  {
   "cell_type": "code",
   "execution_count": null,
   "id": "752575a6",
   "metadata": {},
   "outputs": [],
   "source": [
    "#plotting mnist data\n",
    "for i in range(0,5):\n",
    "    plt.matshow(X_train[i]"
   ]
  },
  {
   "cell_type": "code",
   "execution_count": null,
   "id": "d479975d",
   "metadata": {},
   "outputs": [],
   "source": []
  }
 ],
 "metadata": {
  "kernelspec": {
   "display_name": "Python 3 (ipykernel)",
   "language": "python",
   "name": "python3"
  },
  "language_info": {
   "codemirror_mode": {
    "name": "ipython",
    "version": 3
   },
   "file_extension": ".py",
   "mimetype": "text/x-python",
   "name": "python",
   "nbconvert_exporter": "python",
   "pygments_lexer": "ipython3",
   "version": "3.11.5"
  }
 },
 "nbformat": 4,
 "nbformat_minor": 5
}
